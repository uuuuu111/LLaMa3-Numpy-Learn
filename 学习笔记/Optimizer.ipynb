{
 "cells": [
  {
   "cell_type": "code",
   "execution_count": null,
   "id": "d368d00b-38c9-4e99-9e96-b13e1c6881ee",
   "metadata": {},
   "outputs": [],
   "source": []
  }
 ],
 "metadata": {
  "kernelspec": {
   "display_name": "",
   "name": ""
  },
  "language_info": {
   "name": ""
  }
 },
 "nbformat": 4,
 "nbformat_minor": 5
}
