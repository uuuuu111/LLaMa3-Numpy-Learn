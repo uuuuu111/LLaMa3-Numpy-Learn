{
 "cells": [
  {
   "cell_type": "markdown",
   "id": "d5d44bcc-8dc7-480a-b04a-f95d875033b7",
   "metadata": {},
   "source": [
    "## Module\n",
    "#### 为什么要把module定义为layer的子类"
   ]
  },
  {
   "cell_type": "code",
   "execution_count": null,
   "id": "cb5bae7b-c29e-4ed0-8102-09a6d99ba48b",
   "metadata": {},
   "outputs": [],
   "source": [
    "class Model(Layer):\n",
    "    def plot(self, *inputs, to_file='model.png'):\n",
    "        y = self.forward(*inputs)\n",
    "        return plot_dot_graph(y, verbose=True, to_file=to_file)"
   ]
  }
 ],
 "metadata": {
  "kernelspec": {
   "display_name": "Python 3 (ipykernel)",
   "language": "python",
   "name": "python3"
  },
  "language_info": {
   "codemirror_mode": {
    "name": "ipython",
    "version": 3
   },
   "file_extension": ".py",
   "mimetype": "text/x-python",
   "name": "python",
   "nbconvert_exporter": "python",
   "pygments_lexer": "ipython3",
   "version": "3.11.7"
  }
 },
 "nbformat": 4,
 "nbformat_minor": 5
}
